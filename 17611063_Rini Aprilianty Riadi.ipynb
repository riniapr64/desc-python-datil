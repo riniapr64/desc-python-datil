{
 "cells": [
  {
   "cell_type": "code",
   "execution_count": 2,
   "metadata": {},
   "outputs": [],
   "source": [
    "import pandas as pd\n",
    "import numpy as np\n",
    "import seaborn as sns\n",
    "import matplotlib.pyplot as plt"
   ]
  },
  {
   "cell_type": "code",
   "execution_count": 3,
   "metadata": {},
   "outputs": [
    {
     "data": {
      "text/html": [
       "<div>\n",
       "<style scoped>\n",
       "    .dataframe tbody tr th:only-of-type {\n",
       "        vertical-align: middle;\n",
       "    }\n",
       "\n",
       "    .dataframe tbody tr th {\n",
       "        vertical-align: top;\n",
       "    }\n",
       "\n",
       "    .dataframe thead th {\n",
       "        text-align: right;\n",
       "    }\n",
       "</style>\n",
       "<table border=\"1\" class=\"dataframe\">\n",
       "  <thead>\n",
       "    <tr style=\"text-align: right;\">\n",
       "      <th></th>\n",
       "      <th>Unnamed: 0</th>\n",
       "      <th>sensor_id</th>\n",
       "      <th>location</th>\n",
       "      <th>lat</th>\n",
       "      <th>lon</th>\n",
       "      <th>timestamp</th>\n",
       "      <th>pressure</th>\n",
       "      <th>temperature</th>\n",
       "      <th>humidity</th>\n",
       "    </tr>\n",
       "  </thead>\n",
       "  <tbody>\n",
       "    <tr>\n",
       "      <th>0</th>\n",
       "      <td>19</td>\n",
       "      <td>1764</td>\n",
       "      <td>879</td>\n",
       "      <td>42.622</td>\n",
       "      <td>23.366</td>\n",
       "      <td>2019-04-01T00:00:06</td>\n",
       "      <td>-17672.91</td>\n",
       "      <td>5.40</td>\n",
       "      <td>72.53</td>\n",
       "    </tr>\n",
       "    <tr>\n",
       "      <th>1</th>\n",
       "      <td>20</td>\n",
       "      <td>10261</td>\n",
       "      <td>5175</td>\n",
       "      <td>42.607</td>\n",
       "      <td>23.389</td>\n",
       "      <td>2019-04-01T00:00:06</td>\n",
       "      <td>93669.23</td>\n",
       "      <td>6.98</td>\n",
       "      <td>56.34</td>\n",
       "    </tr>\n",
       "    <tr>\n",
       "      <th>2</th>\n",
       "      <td>21</td>\n",
       "      <td>6128</td>\n",
       "      <td>7073</td>\n",
       "      <td>42.673</td>\n",
       "      <td>23.256</td>\n",
       "      <td>2019-04-01T00:00:06</td>\n",
       "      <td>94328.63</td>\n",
       "      <td>5.81</td>\n",
       "      <td>79.33</td>\n",
       "    </tr>\n",
       "    <tr>\n",
       "      <th>3</th>\n",
       "      <td>22</td>\n",
       "      <td>6150</td>\n",
       "      <td>3106</td>\n",
       "      <td>42.671</td>\n",
       "      <td>23.319</td>\n",
       "      <td>2019-04-01T00:00:06</td>\n",
       "      <td>94426.91</td>\n",
       "      <td>7.91</td>\n",
       "      <td>63.56</td>\n",
       "    </tr>\n",
       "    <tr>\n",
       "      <th>4</th>\n",
       "      <td>23</td>\n",
       "      <td>7582</td>\n",
       "      <td>3832</td>\n",
       "      <td>42.681</td>\n",
       "      <td>23.289</td>\n",
       "      <td>2019-04-01T00:00:06</td>\n",
       "      <td>94645.74</td>\n",
       "      <td>6.28</td>\n",
       "      <td>69.16</td>\n",
       "    </tr>\n",
       "  </tbody>\n",
       "</table>\n",
       "</div>"
      ],
      "text/plain": [
       "   Unnamed: 0  sensor_id  location     lat     lon            timestamp  \\\n",
       "0          19       1764       879  42.622  23.366  2019-04-01T00:00:06   \n",
       "1          20      10261      5175  42.607  23.389  2019-04-01T00:00:06   \n",
       "2          21       6128      7073  42.673  23.256  2019-04-01T00:00:06   \n",
       "3          22       6150      3106  42.671  23.319  2019-04-01T00:00:06   \n",
       "4          23       7582      3832  42.681  23.289  2019-04-01T00:00:06   \n",
       "\n",
       "   pressure  temperature  humidity  \n",
       "0 -17672.91         5.40     72.53  \n",
       "1  93669.23         6.98     56.34  \n",
       "2  94328.63         5.81     79.33  \n",
       "3  94426.91         7.91     63.56  \n",
       "4  94645.74         6.28     69.16  "
      ]
     },
     "execution_count": 3,
     "metadata": {},
     "output_type": "execute_result"
    }
   ],
   "source": [
    "aqi = pd.read_csv(\"2019-04_bme280sof.csv\")\n",
    "aqi.head()"
   ]
  },
  {
   "cell_type": "code",
   "execution_count": 4,
   "metadata": {},
   "outputs": [
    {
     "data": {
      "text/html": [
       "<div>\n",
       "<style scoped>\n",
       "    .dataframe tbody tr th:only-of-type {\n",
       "        vertical-align: middle;\n",
       "    }\n",
       "\n",
       "    .dataframe tbody tr th {\n",
       "        vertical-align: top;\n",
       "    }\n",
       "\n",
       "    .dataframe thead th {\n",
       "        text-align: right;\n",
       "    }\n",
       "</style>\n",
       "<table border=\"1\" class=\"dataframe\">\n",
       "  <thead>\n",
       "    <tr style=\"text-align: right;\">\n",
       "      <th></th>\n",
       "      <th>sensor_id</th>\n",
       "      <th>location</th>\n",
       "      <th>lat</th>\n",
       "      <th>lon</th>\n",
       "      <th>timestamp</th>\n",
       "      <th>pressure</th>\n",
       "      <th>temperature</th>\n",
       "      <th>humidity</th>\n",
       "    </tr>\n",
       "  </thead>\n",
       "  <tbody>\n",
       "    <tr>\n",
       "      <th>0</th>\n",
       "      <td>1764</td>\n",
       "      <td>879</td>\n",
       "      <td>42.622</td>\n",
       "      <td>23.366</td>\n",
       "      <td>2019-04-01T00:00:06</td>\n",
       "      <td>-17672.91</td>\n",
       "      <td>5.40</td>\n",
       "      <td>72.53</td>\n",
       "    </tr>\n",
       "    <tr>\n",
       "      <th>1</th>\n",
       "      <td>10261</td>\n",
       "      <td>5175</td>\n",
       "      <td>42.607</td>\n",
       "      <td>23.389</td>\n",
       "      <td>2019-04-01T00:00:06</td>\n",
       "      <td>93669.23</td>\n",
       "      <td>6.98</td>\n",
       "      <td>56.34</td>\n",
       "    </tr>\n",
       "    <tr>\n",
       "      <th>2</th>\n",
       "      <td>6128</td>\n",
       "      <td>7073</td>\n",
       "      <td>42.673</td>\n",
       "      <td>23.256</td>\n",
       "      <td>2019-04-01T00:00:06</td>\n",
       "      <td>94328.63</td>\n",
       "      <td>5.81</td>\n",
       "      <td>79.33</td>\n",
       "    </tr>\n",
       "    <tr>\n",
       "      <th>3</th>\n",
       "      <td>6150</td>\n",
       "      <td>3106</td>\n",
       "      <td>42.671</td>\n",
       "      <td>23.319</td>\n",
       "      <td>2019-04-01T00:00:06</td>\n",
       "      <td>94426.91</td>\n",
       "      <td>7.91</td>\n",
       "      <td>63.56</td>\n",
       "    </tr>\n",
       "    <tr>\n",
       "      <th>4</th>\n",
       "      <td>7582</td>\n",
       "      <td>3832</td>\n",
       "      <td>42.681</td>\n",
       "      <td>23.289</td>\n",
       "      <td>2019-04-01T00:00:06</td>\n",
       "      <td>94645.74</td>\n",
       "      <td>6.28</td>\n",
       "      <td>69.16</td>\n",
       "    </tr>\n",
       "  </tbody>\n",
       "</table>\n",
       "</div>"
      ],
      "text/plain": [
       "   sensor_id  location     lat     lon            timestamp  pressure  \\\n",
       "0       1764       879  42.622  23.366  2019-04-01T00:00:06 -17672.91   \n",
       "1      10261      5175  42.607  23.389  2019-04-01T00:00:06  93669.23   \n",
       "2       6128      7073  42.673  23.256  2019-04-01T00:00:06  94328.63   \n",
       "3       6150      3106  42.671  23.319  2019-04-01T00:00:06  94426.91   \n",
       "4       7582      3832  42.681  23.289  2019-04-01T00:00:06  94645.74   \n",
       "\n",
       "   temperature  humidity  \n",
       "0         5.40     72.53  \n",
       "1         6.98     56.34  \n",
       "2         5.81     79.33  \n",
       "3         7.91     63.56  \n",
       "4         6.28     69.16  "
      ]
     },
     "execution_count": 4,
     "metadata": {},
     "output_type": "execute_result"
    }
   ],
   "source": [
    "aqi1 = aqi.drop([\"Unnamed: 0\"], axis = 1)\n",
    "aqi1.head()"
   ]
  },
  {
   "cell_type": "code",
   "execution_count": 5,
   "metadata": {},
   "outputs": [
    {
     "name": "stdout",
     "output_type": "stream",
     "text": [
      "<class 'pandas.core.frame.DataFrame'>\n",
      "RangeIndex: 5248870 entries, 0 to 5248869\n",
      "Data columns (total 8 columns):\n",
      " #   Column       Dtype  \n",
      "---  ------       -----  \n",
      " 0   sensor_id    int64  \n",
      " 1   location     int64  \n",
      " 2   lat          float64\n",
      " 3   lon          float64\n",
      " 4   timestamp    object \n",
      " 5   pressure     float64\n",
      " 6   temperature  float64\n",
      " 7   humidity     float64\n",
      "dtypes: float64(5), int64(2), object(1)\n",
      "memory usage: 320.4+ MB\n"
     ]
    }
   ],
   "source": [
    "aqi1.info()"
   ]
  },
  {
   "cell_type": "code",
   "execution_count": 6,
   "metadata": {},
   "outputs": [
    {
     "data": {
      "text/plain": [
       "9756     38361\n",
       "6239     37618\n",
       "11750    37342\n",
       "3132     17459\n",
       "2970     17451\n",
       "         ...  \n",
       "3329       367\n",
       "12945      194\n",
       "2250        35\n",
       "9299         7\n",
       "3464         1\n",
       "Name: location, Length: 373, dtype: int64"
      ]
     },
     "execution_count": 6,
     "metadata": {},
     "output_type": "execute_result"
    }
   ],
   "source": [
    "aqi1.location.value_counts()"
   ]
  },
  {
   "cell_type": "code",
   "execution_count": 9,
   "metadata": {},
   "outputs": [
    {
     "data": {
      "text/html": [
       "<div>\n",
       "<style scoped>\n",
       "    .dataframe tbody tr th:only-of-type {\n",
       "        vertical-align: middle;\n",
       "    }\n",
       "\n",
       "    .dataframe tbody tr th {\n",
       "        vertical-align: top;\n",
       "    }\n",
       "\n",
       "    .dataframe thead th {\n",
       "        text-align: right;\n",
       "    }\n",
       "</style>\n",
       "<table border=\"1\" class=\"dataframe\">\n",
       "  <thead>\n",
       "    <tr style=\"text-align: right;\">\n",
       "      <th></th>\n",
       "      <th>sensor_id</th>\n",
       "      <th>location</th>\n",
       "      <th>lat</th>\n",
       "      <th>lon</th>\n",
       "      <th>timestamp</th>\n",
       "      <th>pressure</th>\n",
       "      <th>temperature</th>\n",
       "      <th>humidity</th>\n",
       "    </tr>\n",
       "  </thead>\n",
       "  <tbody>\n",
       "    <tr>\n",
       "      <th>121</th>\n",
       "      <td>4661</td>\n",
       "      <td>2343</td>\n",
       "      <td>42.689</td>\n",
       "      <td>23.307</td>\n",
       "      <td>2019-04-01T00:00:42</td>\n",
       "      <td>94851.64</td>\n",
       "      <td>7.58</td>\n",
       "      <td>60.38</td>\n",
       "    </tr>\n",
       "    <tr>\n",
       "      <th>144</th>\n",
       "      <td>3832</td>\n",
       "      <td>1931</td>\n",
       "      <td>42.662</td>\n",
       "      <td>23.289</td>\n",
       "      <td>2019-04-01T00:00:52</td>\n",
       "      <td>94416.39</td>\n",
       "      <td>9.20</td>\n",
       "      <td>53.36</td>\n",
       "    </tr>\n",
       "    <tr>\n",
       "      <th>467</th>\n",
       "      <td>4661</td>\n",
       "      <td>2343</td>\n",
       "      <td>42.689</td>\n",
       "      <td>23.307</td>\n",
       "      <td>2019-04-01T00:03:42</td>\n",
       "      <td>94854.01</td>\n",
       "      <td>7.59</td>\n",
       "      <td>60.82</td>\n",
       "    </tr>\n",
       "    <tr>\n",
       "      <th>776</th>\n",
       "      <td>4661</td>\n",
       "      <td>2343</td>\n",
       "      <td>42.689</td>\n",
       "      <td>23.307</td>\n",
       "      <td>2019-04-01T00:06:10</td>\n",
       "      <td>94849.27</td>\n",
       "      <td>7.56</td>\n",
       "      <td>60.94</td>\n",
       "    </tr>\n",
       "    <tr>\n",
       "      <th>1084</th>\n",
       "      <td>4661</td>\n",
       "      <td>2343</td>\n",
       "      <td>42.689</td>\n",
       "      <td>23.307</td>\n",
       "      <td>2019-04-01T00:08:39</td>\n",
       "      <td>94846.81</td>\n",
       "      <td>7.60</td>\n",
       "      <td>60.74</td>\n",
       "    </tr>\n",
       "    <tr>\n",
       "      <th>1396</th>\n",
       "      <td>4661</td>\n",
       "      <td>2343</td>\n",
       "      <td>42.689</td>\n",
       "      <td>23.307</td>\n",
       "      <td>2019-04-01T00:11:08</td>\n",
       "      <td>94847.08</td>\n",
       "      <td>7.61</td>\n",
       "      <td>60.56</td>\n",
       "    </tr>\n",
       "    <tr>\n",
       "      <th>1708</th>\n",
       "      <td>4661</td>\n",
       "      <td>2343</td>\n",
       "      <td>42.689</td>\n",
       "      <td>23.307</td>\n",
       "      <td>2019-04-01T00:13:37</td>\n",
       "      <td>94850.48</td>\n",
       "      <td>7.64</td>\n",
       "      <td>60.33</td>\n",
       "    </tr>\n",
       "    <tr>\n",
       "      <th>1988</th>\n",
       "      <td>3832</td>\n",
       "      <td>1931</td>\n",
       "      <td>42.662</td>\n",
       "      <td>23.289</td>\n",
       "      <td>2019-04-01T00:15:52</td>\n",
       "      <td>94410.33</td>\n",
       "      <td>9.01</td>\n",
       "      <td>53.80</td>\n",
       "    </tr>\n",
       "    <tr>\n",
       "      <th>2023</th>\n",
       "      <td>4661</td>\n",
       "      <td>2343</td>\n",
       "      <td>42.689</td>\n",
       "      <td>23.307</td>\n",
       "      <td>2019-04-01T00:16:06</td>\n",
       "      <td>94850.31</td>\n",
       "      <td>7.58</td>\n",
       "      <td>60.48</td>\n",
       "    </tr>\n",
       "    <tr>\n",
       "      <th>2334</th>\n",
       "      <td>4661</td>\n",
       "      <td>2343</td>\n",
       "      <td>42.689</td>\n",
       "      <td>23.307</td>\n",
       "      <td>2019-04-01T00:18:35</td>\n",
       "      <td>94860.14</td>\n",
       "      <td>7.60</td>\n",
       "      <td>60.51</td>\n",
       "    </tr>\n",
       "  </tbody>\n",
       "</table>\n",
       "</div>"
      ],
      "text/plain": [
       "      sensor_id  location     lat     lon            timestamp  pressure  \\\n",
       "121        4661      2343  42.689  23.307  2019-04-01T00:00:42  94851.64   \n",
       "144        3832      1931  42.662  23.289  2019-04-01T00:00:52  94416.39   \n",
       "467        4661      2343  42.689  23.307  2019-04-01T00:03:42  94854.01   \n",
       "776        4661      2343  42.689  23.307  2019-04-01T00:06:10  94849.27   \n",
       "1084       4661      2343  42.689  23.307  2019-04-01T00:08:39  94846.81   \n",
       "1396       4661      2343  42.689  23.307  2019-04-01T00:11:08  94847.08   \n",
       "1708       4661      2343  42.689  23.307  2019-04-01T00:13:37  94850.48   \n",
       "1988       3832      1931  42.662  23.289  2019-04-01T00:15:52  94410.33   \n",
       "2023       4661      2343  42.689  23.307  2019-04-01T00:16:06  94850.31   \n",
       "2334       4661      2343  42.689  23.307  2019-04-01T00:18:35  94860.14   \n",
       "\n",
       "      temperature  humidity  \n",
       "121          7.58     60.38  \n",
       "144          9.20     53.36  \n",
       "467          7.59     60.82  \n",
       "776          7.56     60.94  \n",
       "1084         7.60     60.74  \n",
       "1396         7.61     60.56  \n",
       "1708         7.64     60.33  \n",
       "1988         9.01     53.80  \n",
       "2023         7.58     60.48  \n",
       "2334         7.60     60.51  "
      ]
     },
     "execution_count": 9,
     "metadata": {},
     "output_type": "execute_result"
    }
   ],
   "source": [
    "aqi2 = pd.DataFrame(aqi1[aqi1.location.isin([2343, 1931])])\n",
    "aqi2.head(10)"
   ]
  },
  {
   "cell_type": "code",
   "execution_count": 11,
   "metadata": {},
   "outputs": [
    {
     "data": {
      "text/plain": [
       "<seaborn.axisgrid.FacetGrid at 0x12f97688220>"
      ]
     },
     "execution_count": 11,
     "metadata": {},
     "output_type": "execute_result"
    },
    {
     "data": {
      "image/png": "[encoded data removed]",
      "text/plain": [
       "<Figure size 360x360 with 1 Axes>"
      ]
     },
     "metadata": {
      "needs_background": "light"
     },
     "output_type": "display_data"
    }
   ],
   "source": [
    "# Boxplot setiap sensor_id\n",
    "sns.catplot(x=\"sensor_id\", y=\"temperature\", kind=\"box\",data=aqi2)"
   ]
  },
  {
   "cell_type": "markdown",
   "metadata": {},
   "source": [
    "Berdasarkan boxplot antara sensor_id dan temperature yang terjadi pada tahun 2019 bulan April bahwa:\n",
    "\n",
    "1. Meskipun temperatur pada sensor_id 4661 terlihat lebih stabil karena miliki rentang lebih panjang dibandingkan sensor_id 3832, namun bila diperhatikan lagi di sensor_id 4661 sering terjadi temperatur ekstrem (fluktuatif) yang sangat tinggi di kisaran 45-30 derajat. Dapat dikatakan pada bulan ini terjadi fenomena temperatur yang tidak stabil karna suhunya bisa mencapai 45 derajat dibandingkan dari nilai kuartilnya."
   ]
  },
  {
   "cell_type": "code",
   "execution_count": 15,
   "metadata": {},
   "outputs": [
    {
     "data": {
      "text/plain": [
       "<seaborn.axisgrid.FacetGrid at 0x12f97756580>"
      ]
     },
     "execution_count": 15,
     "metadata": {},
     "output_type": "execute_result"
    },
    {
     "data": {
      "image/png": "[encoded data removed]",
      "text/plain": [
       "<Figure size 360x360 with 1 Axes>"
      ]
     },
     "metadata": {
      "needs_background": "light"
     },
     "output_type": "display_data"
    }
   ],
   "source": [
    "# Boxplot setiap sensor_id\n",
    "sns.catplot(x=\"sensor_id\", y=\"humidity\", kind=\"box\",data=aqi2)"
   ]
  },
  {
   "cell_type": "markdown",
   "metadata": {},
   "source": [
    "Berdasarkan boxplot antara sensor_id dan humidity yang terjadi pada tahun 2019 bulan April bahwa:\n",
    "\n",
    "1. Kelembaban pada sensor_id 3832 maupun sensor_id 4661 terlihat cukup panjang rentang datanya, demikian menunjukan kelembaban di lokasi terpasangnya sensor_id cukup fluktuatif (rendah dan tinggi) namun tidak sampai memiliki kelembaban yang ekstrem."
   ]
  },
  {
   "cell_type": "markdown",
   "metadata": {},
   "source": [
    "Setelah dilihat dari boxplot sensor_id antara temperature dan humidity pada tahun 2019 bulan April bahwa:\n",
    "1. Pada sensor 4661 sebelumnya memiliki temperatur yang sangat fluktuatif mencapai suhu ekstrem 45 derajat, maka humudity (kelembapan) pada sensor ini juga fluktuatif namun tidak sampai memiliki kelembaban yang ekstrem karena berada pada rentang dikisaran 20<kelembaban<100."
   ]
  },
  {
   "cell_type": "code",
   "execution_count": 13,
   "metadata": {},
   "outputs": [
    {
     "data": {
      "image/png": "[encoded data removed]",
      "text/plain": [
       "<Figure size 432x432 with 3 Axes>"
      ]
     },
     "metadata": {
      "needs_background": "light"
     },
     "output_type": "display_data"
    }
   ],
   "source": [
    "sns.jointplot(x=\"temperature\", y=\"humidity\", data=aqi2, kind=\"reg\");"
   ]
  },
  {
   "cell_type": "markdown",
   "metadata": {},
   "source": [
    "Dari hasil joint plot bahwa pada plot terdapat hubungan yang kuat dan negatif pada temperature dan humidity. Selain itu, semakin tinggi kelembaban maka semakin rendah juga temperatur. Temperatur lebih dominan di angka kurang dari 10 sampai 20. Sedangkan kelembaban dari 30-100."
   ]
  },
  {
   "cell_type": "code",
   "execution_count": 14,
   "metadata": {},
   "outputs": [
    {
     "data": {
      "image/png": "[encoded data removed]",
      "text/plain": [
       "<Figure size 432x432 with 3 Axes>"
      ]
     },
     "metadata": {},
     "output_type": "display_data"
    }
   ],
   "source": [
    "with sns.axes_style(\"white\"):\n",
    "    sns.jointplot(x=\"temperature\", y=\"humidity\", kind=\"hex\", color=\"green\", data=aqi2);"
   ]
  },
  {
   "cell_type": "markdown",
   "metadata": {},
   "source": [
    "Berdasarkan hexbin plot:\n",
    "Menunjukkan hubungan cukup kuat dan negatif, pada plot terjadi penumpukan scatter ditandai dengan warna hijau gelap pada temperature kisaran 10-15 derajat, dan kelembaban sebesar 100."
   ]
  },
  {
   "cell_type": "markdown",
   "metadata": {},
   "source": [
    "Kesimpulannya pada bulan april 2019 bahwa jika temperaturnya rendah maka kelembabannya akan meningkat, dan berlaku sebaliknya.\n"
   ]
  }
 ],
 "metadata": {
  "kernelspec": {
   "display_name": "Python 3",
   "language": "python",
   "name": "python3"
  },
  "language_info": {
   "codemirror_mode": {
    "name": "ipython",
    "version": 3
   },
   "file_extension": ".py",
   "mimetype": "text/x-python",
   "name": "python",
   "nbconvert_exporter": "python",
   "pygments_lexer": "ipython3",
   "version": "3.8.3"
  }
 },
 "nbformat": 4,
 "nbformat_minor": 2
}
